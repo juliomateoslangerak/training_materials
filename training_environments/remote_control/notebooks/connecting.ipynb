{
 "cells": [
  {
   "cell_type": "markdown",
   "metadata": {
    "collapsed": false
   },
   "source": [
    "## Introduction\n",
    "\n",
    "In this tutorial we will demonstrate that connecting to remote devices is as easy as connecting to local devices. This notebook is part of a docker compose environment that spins a remote \n",
    "microscope camera and a remote light source. These remote devices are trigered by running, on a remote machine, a python module that takes a python script defining a ```DEVICES``` list of all the devices that you want to serve, the class of the device and the host and port where the device will be served.\n",
    "\n",
    "```python\n",
    "# server_conf_camera_0.py\n",
    "import Pyro4\n",
    "\n",
    "from microscope.device_server import device\n",
    "from microscope.simulators import SimulatedCamera\n",
    "\n",
    "Pyro4.config.COMPRESSION = True\n",
    "Pyro4.config.PICKLE_PROTOCOL_VERSION = 2\n",
    "\n",
    "DEVICES = [\n",
    "    device(SimulatedCamera, host=\"camera_0\", port=8000),\n",
    "]\n",
    "```\n",
    "\n",
    "Then you can run the module with the following command\n",
    "\n",
    "```bash\n",
    "python -m microscope.device_server server_conf_camera_0.py\n",
    "```\n",
    "\n",
    "In the log of the terminal you should see something like this\n",
    "\n",
    "```bash\n",
    "2023-11-12 19:29:47 2023-11-12 18:29:47,937:device-server (__main__):INFO:PID 1: Device Server started. Press Ctrl+C to exit.\n",
    "2023-11-12 19:29:47 2023-11-12 18:29:47,958:SimulatedCamera (__main__):INFO:PID 14: Device initialized; starting daemon.\n",
    "2023-11-12 19:29:47 2023-11-12 18:29:47,958:SimulatedCamera (__main__):INFO:PID 14: Serving PYRO:SimulatedCamera@camera_0:8000\n",
    "```\n",
    "\n",
    "Similarly, you can run a light source server with the following command\n",
    "\n",
    "```bash\n",
    "python -m microscope.device_server server_conf_light_0.py\n",
    "```\n",
    "\n",
    "where the ```server_conf_light_0.py``` file is\n",
    "\n",
    "```python\n",
    "import Pyro4\n",
    "\n",
    "from microscope.device_server import device\n",
    "from microscope.simulators import SimulatedLightSource\n",
    "\n",
    "Pyro4.config.COMPRESSION = True\n",
    "Pyro4.config.PICKLE_PROTOCOL_VERSION = 2\n",
    "\n",
    "\n",
    "DEVICES = [\n",
    "    device(SimulatedLightSource, host=\"light_0\", port=9000),\n",
    "]\n",
    "```\n",
    "\n",
    "\n",
    "## Connecting to devices\n",
    "\n",
    "To connect any device, first you have to import Pyro4. Pyro4 is the library we use to connect to remote devices. Then we need to settings for Pyro4 to be able to connect. These settings are the same for all devices, so you just have to do this once.\n",
    "Then you create a proxy to the remote device. This proxy is a python object that behaves exactly like the device you are connecting to. You can call methods and access properties as if the device was local."
   ]
  },
  {
   "cell_type": "code",
   "execution_count": null,
   "metadata": {
    "ExecuteTime": {
     "end_time": "2023-11-10T13:23:09.152427966Z",
     "start_time": "2023-11-10T13:23:08.618411704Z"
    },
    "collapsed": false
   },
   "outputs": [],
   "source": [
    "# Some stuff we will need later on\n",
    "import time\n",
    "import matplotlib.pyplot as plt\n",
    "\n",
    "import Pyro4\n",
    "\n",
    "camera = Pyro4.Proxy(\"PYRO:SimulatedCamera@camera_0:8000\")\n",
    "\n",
    "light_source = Pyro4.Proxy(\"PYRO:SimulatedLightSource@light_0:9000\")"
   ]
  },
  {
   "cell_type": "markdown",
   "metadata": {
    "collapsed": false
   },
   "source": [
    "## Using devices\n",
    "\n",
    "### Predefined properties\n",
    "\n",
    "Each device type (Camera, LightSource, Stage,...) has a set of ***predefined properties*** and methods/functions that are going to be shared between any device of that type.\n",
    "\n",
    "For example a light source can be turned on and off and can change its power output."
   ]
  },
  {
   "cell_type": "code",
   "execution_count": null,
   "metadata": {
    "ExecuteTime": {
     "end_time": "2023-10-21T13:52:57.700491250Z",
     "start_time": "2023-10-21T13:52:57.682027659Z"
    },
    "collapsed": false
   },
   "outputs": [],
   "source": [
    "# Checking the status of a light source\n",
    "light_source.enabled"
   ]
  },
  {
   "cell_type": "markdown",
   "metadata": {
    "collapsed": false
   },
   "source": [
    "Checking the status of the laser returns a very convenient and \"pythonic\" ```False```. It is a good thing that lasers are off when we connect to them.\n",
    "\n",
    "Let us turn it on "
   ]
  },
  {
   "cell_type": "code",
   "execution_count": null,
   "metadata": {
    "ExecuteTime": {
     "end_time": "2023-10-21T13:52:57.738228451Z",
     "start_time": "2023-10-21T13:52:57.692986664Z"
    },
    "collapsed": false
   },
   "outputs": [],
   "source": [
    "light_source.enable()\n",
    "light_source.enabled"
   ]
  },
  {
   "cell_type": "markdown",
   "metadata": {
    "collapsed": false
   },
   "source": [
    "Let's now change the power of the light source. But first lets turn it off."
   ]
  },
  {
   "cell_type": "code",
   "execution_count": null,
   "metadata": {
    "ExecuteTime": {
     "end_time": "2023-10-21T13:52:57.754661546Z",
     "start_time": "2023-10-21T13:52:57.703895314Z"
    },
    "collapsed": false
   },
   "outputs": [],
   "source": [
    "print(\"Turning off light source\")\n",
    "light_source.disable()\n",
    "print(\"Light source power is:\")\n",
    "light_source.power"
   ]
  },
  {
   "cell_type": "markdown",
   "metadata": {
    "collapsed": false
   },
   "source": [
    "Light source powers are expressed relative to their nominal power. as values between 0 and 1."
   ]
  },
  {
   "cell_type": "code",
   "execution_count": null,
   "metadata": {
    "ExecuteTime": {
     "end_time": "2023-10-21T13:52:58.725642772Z",
     "start_time": "2023-10-21T13:52:57.750490205Z"
    },
    "collapsed": false
   },
   "outputs": [],
   "source": [
    "print(\"Setting the power at 75 %\")\n",
    "light_source.power = 0.75\n",
    "print(f\"Current power is: {light_source.power * 100} %\")\n",
    "print(\"Oops! We have to turn on the light...\")\n",
    "light_source.enable()\n",
    "print(f\"Current power is: {light_source.power * 100} %\")\n",
    "time.sleep(1)\n",
    "light_source.disable()\n",
    "print(\"Shutting down...\")\n",
    "light_source.shutdown()\n",
    "print(f\"Lights on? {light_source.get_is_enabled()}\")"
   ]
  },
  {
   "cell_type": "markdown",
   "metadata": {
    "collapsed": false
   },
   "source": [
    "Cameras have a different set of properties, like **exposure time** or the ROI."
   ]
  },
  {
   "cell_type": "code",
   "execution_count": null,
   "metadata": {
    "ExecuteTime": {
     "end_time": "2023-10-21T13:52:58.773771308Z",
     "start_time": "2023-10-21T13:52:58.726831261Z"
    },
    "collapsed": false
   },
   "outputs": [],
   "source": [
    "camera.enable()\n",
    "print(f\"exposure time: {camera.get_exposure_time()} seconds\")\n",
    "camera.set_exposure_time(.2)\n",
    "print(f\"exposure time: {camera.get_exposure_time()} seconds\")\n",
    "\n",
    "print(f\"ROI: {camera.get_roi()}\")\n",
    "camera.set_roi((128, 128, 256, 256))\n",
    "print(f\"ROI: {camera.get_roi()}\")\n",
    "camera.set_setting(\"display image number\", False)"
   ]
  },
  {
   "cell_type": "markdown",
   "metadata": {
    "collapsed": false
   },
   "source": [
    "Now we can get an image from the camera"
   ]
  },
  {
   "cell_type": "code",
   "execution_count": null,
   "metadata": {
    "ExecuteTime": {
     "end_time": "2023-10-21T13:57:19.672159721Z",
     "start_time": "2023-10-21T13:57:19.170073876Z"
    },
    "collapsed": false
   },
   "outputs": [],
   "source": [
    "camera.enable()\n",
    "\n",
    "image = camera.grab_next_data()\n",
    "\n",
    "plt.imshow(image[0], cmap=\"gray\")"
   ]
  },
  {
   "cell_type": "markdown",
   "metadata": {
    "collapsed": false
   },
   "source": [
    "### Device specific properties\n",
    "\n",
    "Devices from different manufacturers may have settings that are unique to them. This is more common with complex devices such as cameras.\n",
    "Our simulated camera has some settings that are unique to a simulated camera, such as what type of image has to be produced.\n",
    "\n",
    "You may explore all the settings of a camera using the ```describe_settings``` function. \n",
    "The output of this function is only useful for computers, so we can prettify it a bit"
   ]
  },
  {
   "cell_type": "code",
   "execution_count": null,
   "metadata": {
    "ExecuteTime": {
     "start_time": "2023-10-21T13:53:40.442747301Z"
    },
    "collapsed": false
   },
   "outputs": [],
   "source": [
    "for setting in camera.describe_settings():\n",
    "    print(f\"name: {setting[0]}\")\n",
    "    print(f\"type: {setting[1]['type']}\")\n",
    "    print(f\"values: {setting[1]['values']}\")\n",
    "    print(f\"readonly: {setting[1]['readonly']}\")\n",
    "    print(f\"cached: {setting[1]['cached']}\")\n",
    "    print()\n",
    "    "
   ]
  },
  {
   "cell_type": "markdown",
   "metadata": {
    "collapsed": false
   },
   "source": [
    "You may access the device specific settings through their name"
   ]
  },
  {
   "cell_type": "code",
   "execution_count": null,
   "metadata": {
    "ExecuteTime": {
     "end_time": "2023-10-21T13:53:40.453794796Z",
     "start_time": "2023-10-21T13:53:40.448226071Z"
    },
    "collapsed": false
   },
   "outputs": [],
   "source": [
    "print(f\"image pattern: {camera.get_setting('image pattern')}\")\n",
    "camera.set_setting('image pattern', 1)\n",
    "print(f\"image pattern: {camera.get_setting('image pattern')}\")"
   ]
  },
  {
   "cell_type": "code",
   "execution_count": null,
   "metadata": {
    "ExecuteTime": {
     "start_time": "2023-10-21T13:53:40.452823862Z"
    },
    "collapsed": false
   },
   "outputs": [],
   "source": [
    "type(camera.get_setting(\"image pattern\"))"
   ]
  },
  {
   "cell_type": "markdown",
   "metadata": {
    "ExecuteTime": {
     "start_time": "2023-10-21T13:53:40.456572942Z"
    },
    "collapsed": false
   },
   "source": [
    "Once we are done, we clean after ourselves."
   ]
  },
  {
   "cell_type": "code",
   "execution_count": null,
   "metadata": {},
   "outputs": [],
   "source": [
    "light_source.shutdown()\n",
    "camera.shutdown()"
   ]
  },
  {
   "cell_type": "code",
   "execution_count": null,
   "metadata": {},
   "outputs": [],
   "source": []
  }
 ],
 "metadata": {
  "kernelspec": {
   "display_name": "Python 3 (ipykernel)",
   "language": "python",
   "name": "python3"
  },
  "language_info": {
   "codemirror_mode": {
    "name": "ipython",
    "version": 3
   },
   "file_extension": ".py",
   "mimetype": "text/x-python",
   "name": "python",
   "nbconvert_exporter": "python",
   "pygments_lexer": "ipython3",
   "version": "3.11.4"
  }
 },
 "nbformat": 4,
 "nbformat_minor": 4
}
