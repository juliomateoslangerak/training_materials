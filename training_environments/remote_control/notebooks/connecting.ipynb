{
 "cells": [
  {
   "cell_type": "code",
   "execution_count": null,
   "metadata": {
    "collapsed": true
   },
   "outputs": [],
   "source": [
    "import Pyro4\n",
    "\n",
    "camera_0 = Pyro4.Proxy(\"PYRO:SimulatedCamera@camera_0:8000\")\n",
    "camera_0.enable()\n",
    "print(camera_0.get_exposure_time())\n",
    "\n",
    "laser_0 = Pyro4.Proxy(\"PYRO:SimulatedLightSource@light_0:9000\")\n",
    "laser_0.enable()\n",
    "print(laser_0.power)"
   ]
  }
 ],
 "metadata": {
  "kernelspec": {
   "display_name": "Python 3",
   "language": "python",
   "name": "python3"
  },
  "language_info": {
   "codemirror_mode": {
    "name": "ipython",
    "version": 2
   },
   "file_extension": ".py",
   "mimetype": "text/x-python",
   "name": "python",
   "nbconvert_exporter": "python",
   "pygments_lexer": "ipython2",
   "version": "2.7.6"
  }
 },
 "nbformat": 4,
 "nbformat_minor": 0
}
