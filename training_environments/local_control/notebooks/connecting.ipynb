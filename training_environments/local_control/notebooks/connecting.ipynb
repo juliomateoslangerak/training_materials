{
 "cells": [
  {
   "cell_type": "markdown",
   "metadata": {
    "collapsed": false,
    "jupyter": {
     "outputs_hidden": false
    }
   },
   "source": [
    "## Introduction\n",
    "\n",
    "We are working with simulated devices\n",
    "\n",
    "## Connecting to devices\n",
    "\n",
    "To connect any device, first you have to import the class that defines your device and then instantiate it.\n",
    "\n",
    "You may find a list of supported devices and their corresponding classes [here](https://python-microscope.org/doc/architecture/supported-devices)"
   ]
  },
  {
   "cell_type": "code",
   "execution_count": null,
   "metadata": {
    "ExecuteTime": {
     "end_time": "2023-11-10T13:23:09.152427966Z",
     "start_time": "2023-11-10T13:23:08.618411704Z"
    },
    "collapsed": false,
    "jupyter": {
     "outputs_hidden": false
    }
   },
   "outputs": [],
   "source": [
    "# TODO: Fix simcamera enum settings\n",
    "# Some stuff we will need later on\n",
    "import time\n",
    "import matplotlib.pyplot as plt\n",
    "import matplotlib.animation as animation\n",
    "\n",
    "from microscope.simulators import SimulatedLightSource\n",
    "\n",
    "light_source = SimulatedLightSource()"
   ]
  },
  {
   "cell_type": "markdown",
   "metadata": {
    "collapsed": false,
    "jupyter": {
     "outputs_hidden": false
    }
   },
   "source": [
    "## Using devices\n",
    "\n",
    "### Predefined properties\n",
    "\n",
    "Each device type (Camera, LightSource, Stage,...) has a set of ***predefined properties*** and methods/functions that are going to be shared between any device of that type.\n",
    "\n",
    "For example a light source can be turned on and off and can change its power output."
   ]
  },
  {
   "cell_type": "code",
   "execution_count": null,
   "metadata": {
    "ExecuteTime": {
     "end_time": "2023-10-21T13:52:57.700491250Z",
     "start_time": "2023-10-21T13:52:57.682027659Z"
    },
    "collapsed": false,
    "jupyter": {
     "outputs_hidden": false
    }
   },
   "outputs": [],
   "source": [
    "# Checking the status of a light source\n",
    "light_source.enabled"
   ]
  },
  {
   "cell_type": "markdown",
   "metadata": {
    "collapsed": false,
    "jupyter": {
     "outputs_hidden": false
    }
   },
   "source": [
    "Checking the status of the laser returns a very convenient and \"pythonic\" ```False```. It is a good thing that lasers are off when we connect to them.\n",
    "\n",
    "Let us turn it on "
   ]
  },
  {
   "cell_type": "code",
   "execution_count": null,
   "metadata": {
    "ExecuteTime": {
     "end_time": "2023-10-21T13:52:57.738228451Z",
     "start_time": "2023-10-21T13:52:57.692986664Z"
    },
    "collapsed": false,
    "jupyter": {
     "outputs_hidden": false
    }
   },
   "outputs": [],
   "source": [
    "light_source.enable()\n",
    "light_source.enabled"
   ]
  },
  {
   "cell_type": "markdown",
   "metadata": {
    "collapsed": false,
    "jupyter": {
     "outputs_hidden": false
    }
   },
   "source": [
    "Let's now change the power of the light source. But first lets turn it off."
   ]
  },
  {
   "cell_type": "code",
   "execution_count": null,
   "metadata": {
    "ExecuteTime": {
     "end_time": "2023-10-21T13:52:57.754661546Z",
     "start_time": "2023-10-21T13:52:57.703895314Z"
    },
    "collapsed": false,
    "jupyter": {
     "outputs_hidden": false
    }
   },
   "outputs": [],
   "source": [
    "print(\"Turning off light source\")\n",
    "light_source.disable()\n",
    "print(\"Light source power is:\")\n",
    "light_source.power"
   ]
  },
  {
   "cell_type": "markdown",
   "metadata": {
    "collapsed": false,
    "jupyter": {
     "outputs_hidden": false
    }
   },
   "source": [
    "Light source powers are expressed relative to their nominal power. as values between 0 and 1."
   ]
  },
  {
   "cell_type": "code",
   "execution_count": null,
   "metadata": {
    "ExecuteTime": {
     "end_time": "2023-10-21T13:52:58.725642772Z",
     "start_time": "2023-10-21T13:52:57.750490205Z"
    },
    "collapsed": false,
    "jupyter": {
     "outputs_hidden": false
    }
   },
   "outputs": [],
   "source": [
    "print(\"Setting the power at 75 %\")\n",
    "light_source.power = 0.75\n",
    "print(f\"Current power is: {light_source.power * 100} %\")\n",
    "print(\"Oops! We have to turn on the light...\")\n",
    "light_source.enable()\n",
    "print(f\"Current power is: {light_source.power * 100} %\")\n",
    "time.sleep(1)\n",
    "light_source.disable()\n",
    "print(\"Shutting down...\")\n",
    "light_source.shutdown()\n",
    "print(f\"Lights on? {light_source.get_is_enabled()}\")"
   ]
  },
  {
   "cell_type": "markdown",
   "metadata": {
    "collapsed": false,
    "jupyter": {
     "outputs_hidden": false
    }
   },
   "source": [
    "Cameras have a different set of properties, like **exposure time** or the ROI."
   ]
  },
  {
   "cell_type": "code",
   "execution_count": null,
   "metadata": {
    "ExecuteTime": {
     "end_time": "2023-10-21T13:52:58.773771308Z",
     "start_time": "2023-10-21T13:52:58.726831261Z"
    },
    "collapsed": false,
    "jupyter": {
     "outputs_hidden": false
    }
   },
   "outputs": [],
   "source": [
    "from microscope.simulators import SimulatedCamera\n",
    "\n",
    "camera = SimulatedCamera()\n",
    "\n",
    "camera.enable()\n",
    "print(f\"exposure time: {camera.get_exposure_time()} seconds\")\n",
    "camera.set_exposure_time(.2)\n",
    "print(f\"exposure time: {camera.get_exposure_time()} seconds\")\n",
    "\n",
    "print(f\"ROI: {camera.get_roi()}\")\n",
    "camera.set_roi((128, 128, 256, 256))\n",
    "print(f\"ROI: {camera.get_roi()}\")\n",
    "camera.set_setting(\"display image number\", False)"
   ]
  },
  {
   "cell_type": "markdown",
   "metadata": {
    "collapsed": false,
    "jupyter": {
     "outputs_hidden": false
    }
   },
   "source": [
    "Now we can get an image from the camera"
   ]
  },
  {
   "cell_type": "code",
   "execution_count": null,
   "metadata": {
    "ExecuteTime": {
     "end_time": "2023-10-21T13:57:19.672159721Z",
     "start_time": "2023-10-21T13:57:19.170073876Z"
    },
    "collapsed": false,
    "jupyter": {
     "outputs_hidden": false
    }
   },
   "outputs": [],
   "source": [
    "camera.enable()\n",
    "\n",
    "image = camera.grab_next_data()\n",
    "\n",
    "plt.imshow(image[0], cmap=\"gray\")"
   ]
  },
  {
   "cell_type": "markdown",
   "metadata": {
    "collapsed": false,
    "jupyter": {
     "outputs_hidden": false
    }
   },
   "source": [
    "### Device specific properties\n",
    "\n",
    "Devices from different manufacturers may have settings that are unique to them. This is more common with complex devices such as cameras.\n",
    "Our simulated camera has some settings that are unique to a simulated camera, such as what type of image has to be produced.\n",
    "\n",
    "You may explore all the settings of a camera using the ```describe_settings``` function. \n",
    "The output of this function is only useful for computers, so we can prettify it a bit"
   ]
  },
  {
   "cell_type": "code",
   "execution_count": null,
   "metadata": {
    "ExecuteTime": {
     "start_time": "2023-10-21T13:53:40.442747301Z"
    },
    "collapsed": false,
    "jupyter": {
     "outputs_hidden": false
    }
   },
   "outputs": [],
   "source": [
    "for setting in camera.describe_settings():\n",
    "    print(f\"name: {setting[0]}\")\n",
    "    print(f\"type: {setting[1]['type']}\")\n",
    "    print(f\"values: {setting[1]['values']}\")\n",
    "    print(f\"readonly: {setting[1]['readonly']}\")\n",
    "    print(f\"cached: {setting[1]['cached']}\")\n",
    "    print()\n",
    "    "
   ]
  },
  {
   "cell_type": "markdown",
   "metadata": {
    "collapsed": false,
    "jupyter": {
     "outputs_hidden": false
    }
   },
   "source": [
    "You may access the device specific settings through their name"
   ]
  },
  {
   "cell_type": "code",
   "execution_count": null,
   "metadata": {
    "ExecuteTime": {
     "end_time": "2023-10-21T13:53:40.453794796Z",
     "start_time": "2023-10-21T13:53:40.448226071Z"
    },
    "collapsed": false,
    "jupyter": {
     "outputs_hidden": false
    }
   },
   "outputs": [],
   "source": [
    "print(f\"image pattern: {camera.get_setting('image pattern')}\")\n",
    "camera.set_setting('image pattern', 1)\n",
    "print(f\"image pattern: {camera.get_setting('image pattern')}\")"
   ]
  },
  {
   "cell_type": "code",
   "execution_count": null,
   "metadata": {
    "ExecuteTime": {
     "start_time": "2023-10-21T13:53:40.452823862Z"
    },
    "collapsed": false,
    "jupyter": {
     "outputs_hidden": false
    }
   },
   "outputs": [],
   "source": [
    "type(camera.get_setting(\"image pattern\"))"
   ]
  },
  {
   "cell_type": "markdown",
   "metadata": {
    "ExecuteTime": {
     "start_time": "2023-10-21T13:53:40.456572942Z"
    },
    "collapsed": false,
    "jupyter": {
     "outputs_hidden": false
    }
   },
   "source": [
    "Once we are done, we clean after ourselves."
   ]
  },
  {
   "cell_type": "code",
   "execution_count": null,
   "metadata": {},
   "outputs": [],
   "source": [
    "light_source.shutdown()\n",
    "camera.shutdown()"
   ]
  },
  {
   "cell_type": "code",
   "execution_count": null,
   "metadata": {},
   "outputs": [],
   "source": []
  }
 ],
 "metadata": {
  "kernelspec": {
   "display_name": "Python 3 (ipykernel)",
   "language": "python",
   "name": "python3"
  },
  "language_info": {
   "codemirror_mode": {
    "name": "ipython",
    "version": 3
   },
   "file_extension": ".py",
   "mimetype": "text/x-python",
   "name": "python",
   "nbconvert_exporter": "python",
   "pygments_lexer": "ipython3",
   "version": "3.11.4"
  }
 },
 "nbformat": 4,
 "nbformat_minor": 4
}
