{
 "cells": [
  {
   "cell_type": "markdown",
   "id": "e972cce3d70dee2c",
   "metadata": {
    "collapsed": false,
    "jupyter": {
     "outputs_hidden": false
    }
   },
   "source": [
    "## Introduction\n",
    "\n",
    "In this notebook we will propose you some example of how to run experiments with python-microscope.\n",
    "\n",
    "These are just examples intended for training. In most cases you will want to use a full featured software package, \n",
    "with a dedicated GUI, like cockpit-microscope to run your experiments.\n",
    "\n",
    "We are going to be running these example experiments using simulated devices. But the beauty of python-microscope \n",
    "is that the same code can be used to run experiments with real devices once they are connected to the PC. \n",
    "\n",
    "## Preparing the devices\n",
    "\n",
    "Before we start, we need to prepare the devices. We will use a simulated camera, a simulated stage and a simulated\n",
    "light source."
   ]
  },
  {
   "cell_type": "code",
   "execution_count": null,
   "id": "abc60de7e4f2e2df",
   "metadata": {
    "ExecuteTime": {
     "end_time": "2023-11-02T18:59:20.298611855Z",
     "start_time": "2023-11-02T18:59:13.936221661Z"
    },
    "collapsed": false,
    "jupyter": {
     "outputs_hidden": false
    }
   },
   "outputs": [],
   "source": [
    "from microscope.simulators import SimulatedCamera, SimulatedStage, SimulatedLightSource\n",
    "from microscope import AxisLimits\n",
    "\n",
    "from microscope.cameras.ximea import XimeaCamera\n",
    "from microscope.controllers.asi import ASIMS2000\n",
    "\n",
    "import numpy as np\n",
    "from time import sleep\n",
    "import matplotlib.pyplot as plt\n",
    "import matplotlib.animation as animation\n",
    "from IPython.display import HTML\n",
    "\n",
    "camera = XimeaCamera()\n",
    "\n",
    "controller = ASIMS2000(port='/dev/ttyUSB0', baudrate=115200, lights=[\"465\", \"560\"])\n",
    "\n",
    "stage = controller.devices[\"stage\"]\n",
    "light_source = controller.devices[\"465\"]"
   ]
  },
  {
   "cell_type": "markdown",
   "id": "fb8f3049b1dbdde1",
   "metadata": {
    "collapsed": false,
    "jupyter": {
     "outputs_hidden": false
    }
   },
   "source": [
    "## A simple z-stack\n",
    "\n",
    "Let's start with a simple z-stack. Let's start to define some parameters for the experiment."
   ]
  },
  {
   "cell_type": "code",
   "execution_count": null,
   "id": "db6313471fd15610",
   "metadata": {
    "ExecuteTime": {
     "end_time": "2023-11-02T18:59:20.311927690Z",
     "start_time": "2023-11-02T18:59:20.303448990Z"
    },
    "collapsed": false,
    "jupyter": {
     "outputs_hidden": false
    }
   },
   "outputs": [],
   "source": [
    "z_step_size = 0.35 # microns\n",
    "# python-microscope stage do not use physical units. Instead, they use \"counts\". The number of counts per micron\n",
    "# depends on the stage, the encoder it uses, the microstepping, etc. For a simulated stage, this does not really matter, \n",
    "# but for a real stage, you will need to know this number. You will find how to do so in the specific class implementation\n",
    "z_counts_per_micron = 1\n",
    "nr_of_z_steps = 20\n",
    "exposure_time = 0.1 # seconds\n",
    "light_power = 0.5 # as a fraction of the maximum power of the light source\n",
    "\n",
    "camera.set_roi((512, 512, 1024, 1024))"
   ]
  },
  {
   "cell_type": "markdown",
   "id": "e4ac21e29a07a14d",
   "metadata": {
    "collapsed": false,
    "jupyter": {
     "outputs_hidden": false
    }
   },
   "source": [
    "Now we can start to run the experiment.\n",
    "\n",
    "We are going to get the images from the camera using a queue. Qeues are interesting if you want to get the images from another thread"
   ]
  },
  {
   "cell_type": "code",
   "execution_count": null,
   "id": "19113b28cfbbd68c",
   "metadata": {
    "ExecuteTime": {
     "end_time": "2023-11-02T18:59:30.748958600Z",
     "start_time": "2023-11-02T18:59:20.314129686Z"
    },
    "collapsed": false,
    "jupyter": {
     "outputs_hidden": false
    }
   },
   "outputs": [],
   "source": [
    "# let's set the camera exposure time\n",
    "camera.set_exposure_time(exposure_time)\n",
    "\n",
    "# We first import the queue module and create a buffer\n",
    "import queue\n",
    "\n",
    "buffer = queue.Queue()\n",
    "\n",
    "# and we tell the camera to put any new image into this buffer\n",
    "camera.set_client(buffer)\n",
    "\n",
    "# Let's enable the camera so it gets ready to acquire images\n",
    "camera.enable()\n",
    "\n",
    "# Let's keep track of the current position, so we can come back to it once the experiment is done\n",
    "pre_experiment_position = stage.position\n",
    "\n",
    "# Let's move the stage to the starting position. \n",
    "# We will consider the current position to be the center of our stack, so we move half the number of steps\n",
    "# We want to move in the negative direction, so we use a negative number of steps\n",
    "half_z_stack = -nr_of_z_steps * z_step_size * z_counts_per_micron / 2\n",
    "stage.move_by({\"Z\": half_z_stack})\n",
    "\n",
    "# Let's loop over the z positions\n",
    "for z_step in range(nr_of_z_steps):\n",
    "    # Turn on the light\n",
    "    light_source.power = light_power\n",
    "    \n",
    "    # Trigger the camera\n",
    "    camera.trigger()\n",
    "    sleep(exposure_time)\n",
    "    \n",
    "    # Turn off the light\n",
    "    light_source.power = 0\n",
    "    \n",
    "    # Move the stage now in the positive direction\n",
    "    stage.move_by({\"Z\": z_step_size * z_counts_per_micron})\n",
    "    \n",
    "# Let's move the stage back to the original position\n",
    "stage.move_to(pre_experiment_position)\n",
    "\n",
    "# Let's disable the camera\n",
    "camera.disable()"
   ]
  },
  {
   "cell_type": "markdown",
   "id": "159f9c70d9952b79",
   "metadata": {
    "collapsed": false,
    "jupyter": {
     "outputs_hidden": false
    }
   },
   "source": [
    "Now all the images are in the buffer as 2D numpy arrays. We can start to get them out and putting them into a 3D numpy array."
   ]
  },
  {
   "cell_type": "code",
   "execution_count": null,
   "id": "4af7ed26906ecc8a",
   "metadata": {
    "ExecuteTime": {
     "end_time": "2023-11-02T18:59:30.823410692Z",
     "start_time": "2023-11-02T18:59:30.752050940Z"
    },
    "collapsed": false,
    "jupyter": {
     "outputs_hidden": false
    }
   },
   "outputs": [],
   "source": [
    "# Let's create a 3D numpy array to store the images and get them from the queue\n",
    "images = list(buffer.queue)\n",
    "\n",
    "image_3d = np.array([i for i in images])\n",
    "\n",
    "print(image_3d.shape)"
   ]
  },
  {
   "cell_type": "markdown",
   "id": "95b96c508aad79c6",
   "metadata": {
    "collapsed": false,
    "jupyter": {
     "outputs_hidden": false
    }
   },
   "source": [
    "and now some jupyter magic to display the 3D image"
   ]
  },
  {
   "cell_type": "code",
   "execution_count": null,
   "id": "c0f20b53f72855dc",
   "metadata": {
    "ExecuteTime": {
     "end_time": "2023-11-02T18:59:36.441336035Z",
     "start_time": "2023-11-02T18:59:30.825194692Z"
    },
    "collapsed": false,
    "jupyter": {
     "outputs_hidden": false
    }
   },
   "outputs": [],
   "source": [
    "fig, ax = plt.subplots()\n",
    "ax.set_xlim((0, image_3d.shape[1]))\n",
    "ax.set_ylim((image_3d.shape[2],0))\n",
    "\n",
    "im = ax.imshow(image_3d[0,:,:])\n",
    "plt.close()\n",
    "\n",
    "def init():\n",
    "    im.set_data(image_3d[0,:,:])\n",
    "    return (im,)\n",
    "    \n",
    "def animate(i):\n",
    "    data_slice = image_3d[i,:,:]\n",
    "    im.set_data(data_slice)\n",
    "    return (im,)\n",
    "\n",
    "anim = animation.FuncAnimation(fig, animate, init_func=init,\n",
    "                               frames=20, interval=200, blit=True)\n",
    "\n",
    "HTML(anim.to_html5_video())"
   ]
  },
  {
   "cell_type": "markdown",
   "id": "83770a5e464dde08",
   "metadata": {
    "collapsed": false,
    "jupyter": {
     "outputs_hidden": false
    }
   },
   "source": [
    "## A simple tiling array\n",
    "We may try to do a tiling array. Let's define some parameters.\n"
   ]
  },
  {
   "cell_type": "code",
   "execution_count": null,
   "id": "fcb6d4df224ad5a2",
   "metadata": {
    "ExecuteTime": {
     "end_time": "2023-11-02T18:59:36.453718989Z",
     "start_time": "2023-11-02T18:59:36.440774271Z"
    },
    "collapsed": false,
    "jupyter": {
     "outputs_hidden": false
    }
   },
   "outputs": [],
   "source": [
    "x_counts_per_micron = 10  # As for the z axis, this number depends on the stage\n",
    "y_counts_per_micron = 10\n",
    "x_tile_size = 1000  # microns\n",
    "y_tile_size = 1000\n",
    "array_size = 3  # number of tiles in each direction\n",
    "exposure_time = 0.1 # seconds\n",
    "light_power = 0.5 # as a fraction of the maximum power of the light source"
   ]
  },
  {
   "cell_type": "markdown",
   "id": "31a421082786e840",
   "metadata": {
    "collapsed": false,
    "jupyter": {
     "outputs_hidden": false
    }
   },
   "source": [
    "Lets define a function too loop in x and y to acquire the images in a spiral pattern."
   ]
  },
  {
   "cell_type": "code",
   "execution_count": null,
   "id": "390e82e8799f38bd",
   "metadata": {
    "ExecuteTime": {
     "end_time": "2023-11-02T18:59:47.649866999Z",
     "start_time": "2023-11-02T18:59:36.447885280Z"
    },
    "collapsed": false,
    "jupyter": {
     "outputs_hidden": false
    }
   },
   "outputs": [],
   "source": [
    "# let's set the camera exposure time\n",
    "camera.set_exposure_time(exposure_time)\n",
    "\n",
    "# Let's enable the camera so it gets ready to acquire images\n",
    "camera.enable()\n",
    "\n",
    "# A list to store the images\n",
    "images = []\n",
    "\n",
    "# Let's keep track of the current position, so we can come back to it once the experiment is done\n",
    "pre_experiment_position = stage.position\n",
    "\n",
    "def spiral(n):\n",
    "    x = y = 0\n",
    "    dx = 0\n",
    "    dy = -1\n",
    "    for i in range(n**2):\n",
    "        if (-n/2 < x <= n/2) and (-n/2 < y <= n/2):\n",
    "            yield (pre_experiment_position[\"X\"] + (x * x_counts_per_micron * x_tile_size) , \n",
    "                   pre_experiment_position[\"Y\"] + (y * y_counts_per_micron * y_tile_size))\n",
    "        if x == y or (x < 0 and x == -y) or (x > 0 and x == 1-y):\n",
    "            dx, dy = -dy, dx\n",
    "        x, y = x+dx, y+dy\n",
    "        \n",
    "for pos_x, pos_y in spiral(array_size):\n",
    "    stage.move_to({\"X\": pos_x, \"Y\": pos_y})\n",
    "    light_source.power = light_power\n",
    "    camera.trigger()\n",
    "    sleep(exposure_time)\n",
    "    light_source.power = 0\n",
    "\n",
    "camera.disable()\n",
    "stage.move_to(pre_experiment_position)\n"
   ]
  },
  {
   "cell_type": "markdown",
   "id": "a29497bf-f151-49f3-b9c0-9288b0189fe3",
   "metadata": {
    "ExecuteTime": {
     "end_time": "2023-11-02T18:59:47.660703285Z",
     "start_time": "2023-11-02T18:59:47.652337210Z"
    },
    "collapsed": false,
    "jupyter": {
     "outputs_hidden": false
    }
   },
   "source": [
    "Getting again the images from the buffer"
   ]
  },
  {
   "cell_type": "code",
   "execution_count": null,
   "id": "9c01a6c500462699",
   "metadata": {
    "ExecuteTime": {
     "end_time": "2023-11-02T18:59:47.670520798Z",
     "start_time": "2023-11-02T18:59:47.657428361Z"
    },
    "collapsed": false,
    "jupyter": {
     "outputs_hidden": false
    }
   },
   "outputs": [],
   "source": [
    "images = list(buffer.queue)\n",
    "image_3d = np.array([i for i in images])\n",
    "print(image_3d.shape)"
   ]
  },
  {
   "cell_type": "markdown",
   "id": "eb04876c-80d0-4fd5-bb16-c30c4249cac5",
   "metadata": {
    "ExecuteTime": {
     "end_time": "2023-11-02T18:59:47.670893393Z",
     "start_time": "2023-11-02T18:59:47.663280841Z"
    },
    "collapsed": false,
    "jupyter": {
     "outputs_hidden": false
    }
   },
   "source": [
    "and show them in a plot"
   ]
  },
  {
   "cell_type": "code",
   "execution_count": null,
   "id": "d3af3a08-d404-41f4-80e0-1d1005e42985",
   "metadata": {
    "scrolled": true
   },
   "outputs": [],
   "source": [
    "fig, ax = plt.subplots()\n",
    "ax.set_xlim((0, image_3d.shape[1]))\n",
    "ax.set_ylim((image_3d.shape[2],0))\n",
    "\n",
    "im = ax.imshow(image_3d[0,:,:])\n",
    "plt.close()\n",
    "\n",
    "def init():\n",
    "    im.set_data(image_3d[0,:,:])\n",
    "    return (im,)\n",
    "    \n",
    "def animate(i):\n",
    "    data_slice = image_3d[i,:,:]\n",
    "    im.set_data(data_slice)\n",
    "    return (im,)\n",
    "\n",
    "anim = animation.FuncAnimation(fig, animate, init_func=init,\n",
    "                               frames=20, interval=200, blit=True)\n",
    "\n",
    "HTML(anim.to_html5_video())"
   ]
  },
  {
   "cell_type": "code",
   "execution_count": null,
   "id": "535f400c-566c-4ab3-96f2-e5ba167068aa",
   "metadata": {},
   "outputs": [],
   "source": []
  }
 ],
 "metadata": {
  "kernelspec": {
   "display_name": "Python 3 (ipykernel)",
   "language": "python",
   "name": "python3"
  },
  "language_info": {
   "codemirror_mode": {
    "name": "ipython",
    "version": 3
   },
   "file_extension": ".py",
   "mimetype": "text/x-python",
   "name": "python",
   "nbconvert_exporter": "python",
   "pygments_lexer": "ipython3",
   "version": "3.11.4"
  }
 },
 "nbformat": 4,
 "nbformat_minor": 5
}
